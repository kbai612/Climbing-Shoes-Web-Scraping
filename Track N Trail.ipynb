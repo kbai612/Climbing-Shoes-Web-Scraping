{
 "cells": [
  {
   "cell_type": "markdown",
   "id": "92b8370f",
   "metadata": {},
   "source": [
    "## Climbing Shoe Website Parser\n",
    "## Website: TrackNTrail"
   ]
  },
  {
   "cell_type": "code",
   "execution_count": 17,
   "id": "393aaea2",
   "metadata": {},
   "outputs": [],
   "source": [
    "import requests\n",
    "from bs4 import BeautifulSoup\n",
    "import pandas as pd\n",
    "import pyshorteners\n",
    "import pyperclip"
   ]
  },
  {
   "cell_type": "markdown",
   "id": "6ff41f53",
   "metadata": {},
   "source": [
    "Parse for max number of pages to iterate the parser through"
   ]
  },
  {
   "cell_type": "code",
   "execution_count": 18,
   "id": "bcbb76dc",
   "metadata": {},
   "outputs": [],
   "source": [
    "TracknTrail_pages = 1\n",
    "\n",
    "url = \"https://shop.trackntrail.ca/footwear/climbing-shoes/page3.html\"\n",
    "page = requests.get(url)\n",
    "soup = BeautifulSoup(page.content, \"html.parser\")\n",
    "pager_row = soup.find(\"div\", class_=\"pager row\")\n",
    "pager_row_elements = pager_row.find_all(\"li\", class_=\"number\")\n",
    "for sale_element in pager_row_elements:\n",
    "    if int(sale_element.find(\"a\").text) > TracknTrail_pages:\n",
    "        TracknTrail_pages = int(sale_element.find(\"a\").text)"
   ]
  },
  {
   "cell_type": "markdown",
   "id": "aad437c1",
   "metadata": {},
   "source": [
    "Parsing through each webpage and converting it into a dataframe"
   ]
  },
  {
   "cell_type": "code",
   "execution_count": 19,
   "id": "f75fc3c8",
   "metadata": {},
   "outputs": [],
   "source": [
    "df = pd.DataFrame(columns=[\"Shoe\",\"Sale Price\",\"Original Price\",\"Discount\",\"URL\",\"Shipping Cost\"])\n",
    "\n",
    "for i in range(1,TracknTrail_pages+1):\n",
    "    url = \"https://shop.trackntrail.ca/footwear/climbing-shoes/\" + \"page{}.html\".format(i)\n",
    "    page = requests.get(url)\n",
    "    soup = BeautifulSoup(page.content, \"html.parser\")\n",
    "    results = soup.find(\"div\", class_=\"products row\")\n",
    "    product_elements = results.find_all(\"div\", class_=\"product col-xs-6 col-sm-3 col-md-3\")\n",
    "\n",
    "    for sale_element in product_elements:\n",
    "        if sale_element.find(\"div\", class_=\"right\") != None:\n",
    "            new_row = {\"Shoe\" : sale_element.find(\"div\", class_=\"info\").find(\"a\").text.strip(),\n",
    "            \"Sale Price\" : float(sale_element.find(\"div\", class_=\"right\").text.strip()[2:]),\n",
    "            \"Original Price\" : float(sale_element.find(\"div\", class_=\"left\").text.strip()[2:]),\n",
    "            \"Discount\" : str(round((float(sale_element.find(\"div\", class_=\"left\").text.strip()[2:])-float(sale_element.find(\"div\", class_=\"right\").text.strip()[2:]))/float(sale_element.find(\"div\", class_=\"left\").text.strip()[2:]),2)*100)+\"%\",\n",
    "            \"URL\" : sale_element.find(\"a\")[\"href\"],\n",
    "            \"Shipping Cost\" : 25\n",
    "            }\n",
    "            new_row_df = pd.DataFrame([new_row])\n",
    "            df = pd.concat([df, new_row_df],ignore_index=True)\n",
    "\n",
    "\n",
    "type_tiny = pyshorteners.Shortener() \n",
    "df[\"URL\"] = df[\"URL\"].apply(lambda x: type_tiny.tinyurl.short(x))\n",
    "df[\"Post-Tax Price\"] = (df[\"Sale Price\"]+df[\"Shipping Cost\"])*1.13"
   ]
  },
  {
   "cell_type": "markdown",
   "id": "b362f77a",
   "metadata": {},
   "source": [
    "Output Table"
   ]
  },
  {
   "cell_type": "code",
   "execution_count": 20,
   "id": "a3aeec06",
   "metadata": {},
   "outputs": [
    {
     "data": {
      "text/html": [
       "<div>\n",
       "<style scoped>\n",
       "    .dataframe tbody tr th:only-of-type {\n",
       "        vertical-align: middle;\n",
       "    }\n",
       "\n",
       "    .dataframe tbody tr th {\n",
       "        vertical-align: top;\n",
       "    }\n",
       "\n",
       "    .dataframe thead th {\n",
       "        text-align: right;\n",
       "    }\n",
       "</style>\n",
       "<table border=\"1\" class=\"dataframe\">\n",
       "  <thead>\n",
       "    <tr style=\"text-align: right;\">\n",
       "      <th></th>\n",
       "      <th>Shoe</th>\n",
       "      <th>Sale Price</th>\n",
       "      <th>Original Price</th>\n",
       "      <th>Discount</th>\n",
       "      <th>URL</th>\n",
       "      <th>Shipping Cost</th>\n",
       "      <th>Post-Tax Price</th>\n",
       "    </tr>\n",
       "  </thead>\n",
       "  <tbody>\n",
       "    <tr>\n",
       "      <th>0</th>\n",
       "      <td>The General</td>\n",
       "      <td>169.99</td>\n",
       "      <td>229.95</td>\n",
       "      <td>26.0%</td>\n",
       "      <td>https://tinyurl.com/2xtudhgv</td>\n",
       "      <td>25</td>\n",
       "      <td>220.3387</td>\n",
       "    </tr>\n",
       "    <tr>\n",
       "      <th>1</th>\n",
       "      <td>Zone LV Shoe</td>\n",
       "      <td>129.99</td>\n",
       "      <td>174.95</td>\n",
       "      <td>26.0%</td>\n",
       "      <td>https://tinyurl.com/27y8q3yq</td>\n",
       "      <td>25</td>\n",
       "      <td>175.1387</td>\n",
       "    </tr>\n",
       "  </tbody>\n",
       "</table>\n",
       "</div>"
      ],
      "text/plain": [
       "           Shoe  Sale Price  Original Price Discount  \\\n",
       "0   The General      169.99          229.95    26.0%   \n",
       "1  Zone LV Shoe      129.99          174.95    26.0%   \n",
       "\n",
       "                            URL Shipping Cost Post-Tax Price  \n",
       "0  https://tinyurl.com/2xtudhgv            25       220.3387  \n",
       "1  https://tinyurl.com/27y8q3yq            25       175.1387  "
      ]
     },
     "execution_count": 20,
     "metadata": {},
     "output_type": "execute_result"
    }
   ],
   "source": [
    "#Output the table with values sorted\n",
    "df.sort_values(by=\"Discount\",ascending=False)"
   ]
  },
  {
   "cell_type": "code",
   "execution_count": null,
   "id": "8186b100",
   "metadata": {},
   "outputs": [],
   "source": []
  }
 ],
 "metadata": {
  "kernelspec": {
   "display_name": "Python 3 (ipykernel)",
   "language": "python",
   "name": "python3"
  },
  "language_info": {
   "codemirror_mode": {
    "name": "ipython",
    "version": 3
   },
   "file_extension": ".py",
   "mimetype": "text/x-python",
   "name": "python",
   "nbconvert_exporter": "python",
   "pygments_lexer": "ipython3",
   "version": "3.10.11"
  }
 },
 "nbformat": 4,
 "nbformat_minor": 5
}
