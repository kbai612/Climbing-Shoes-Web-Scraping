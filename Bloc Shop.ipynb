{
 "cells": [
  {
   "cell_type": "markdown",
   "id": "92b8370f",
   "metadata": {},
   "source": [
    "## Climbing Shoe Website Parser\n",
    "## Website: TrackNTrail"
   ]
  },
  {
   "cell_type": "code",
   "execution_count": 51,
   "id": "393aaea2",
   "metadata": {},
   "outputs": [],
   "source": [
    "import requests\n",
    "from bs4 import BeautifulSoup\n",
    "import pandas as pd\n",
    "import pyshorteners\n",
    "import pyperclip\n",
    "import json"
   ]
  },
  {
   "cell_type": "markdown",
   "id": "6ff41f53",
   "metadata": {},
   "source": [
    "Parse for max number of pages to iterate the parser through"
   ]
  },
  {
   "cell_type": "code",
   "execution_count": 83,
   "id": "493197ed",
   "metadata": {},
   "outputs": [
    {
     "name": "stdout",
     "output_type": "stream",
     "text": [
      "(151.0,)\n"
     ]
    }
   ],
   "source": [
    "url = \"https://shop.blocshop.com/collections/all-climbing-shoes?page=3&section_id=template--15175211253894__main-collection\"\n",
    "page = requests.get(url)\n",
    "soup = BeautifulSoup(page.content, \"html.parser\")\n",
    "results = soup.find(\"div\", class_=\"collection page-width page-width--full relative with-drawer\")\n",
    "product_elements = results.find_all(\"div\", class_=\"card product-card product-card--card grid leading-none relative overflow-hidden\")\n",
    "\n",
    "for sale_element in product_elements:\n",
    "    if sale_element.find(\"span\", class_=\"price__sale inline-flex items-center h-full relative\") != None:\n",
    "        if sale_element.find(\"span\", class_=\"price__sale inline-flex items-center h-full relative\") != None:\n",
    "            if len(sale_element.find(\"span\", class_=\"price__regular whitespace-nowrap\").text.strip()) > 4:\n",
    "                a = float(sale_element.find(\"span\", class_=\"price__regular whitespace-nowrap\").text.strip()[6:]),\n",
    "                print(a)\n",
    "\n",
    "# print(results)"
   ]
  },
  {
   "cell_type": "markdown",
   "id": "aad437c1",
   "metadata": {},
   "source": [
    "Parsing through each webpage and converting it into a dataframe"
   ]
  },
  {
   "cell_type": "code",
   "execution_count": 80,
   "id": "f75fc3c8",
   "metadata": {},
   "outputs": [
    {
     "ename": "ValueError",
     "evalue": "could not convert string to float: ''",
     "output_type": "error",
     "traceback": [
      "\u001b[1;31m---------------------------------------------------------------------------\u001b[0m",
      "\u001b[1;31mValueError\u001b[0m                                Traceback (most recent call last)",
      "Cell \u001b[1;32mIn[80], line 16\u001b[0m\n\u001b[0;32m     11\u001b[0m \u001b[38;5;28;01mif\u001b[39;00m sale_element\u001b[38;5;241m.\u001b[39mfind(\u001b[38;5;124m\"\u001b[39m\u001b[38;5;124mspan\u001b[39m\u001b[38;5;124m\"\u001b[39m, class_\u001b[38;5;241m=\u001b[39m\u001b[38;5;124m\"\u001b[39m\u001b[38;5;124mprice__sale inline-flex items-center h-full relative\u001b[39m\u001b[38;5;124m\"\u001b[39m) \u001b[38;5;241m!=\u001b[39m \u001b[38;5;28;01mNone\u001b[39;00m:\n\u001b[0;32m     12\u001b[0m     \u001b[38;5;28;01mif\u001b[39;00m \u001b[38;5;28mlen\u001b[39m(sale_element\u001b[38;5;241m.\u001b[39mfind(\u001b[38;5;124m\"\u001b[39m\u001b[38;5;124mspan\u001b[39m\u001b[38;5;124m\"\u001b[39m, class_\u001b[38;5;241m=\u001b[39m\u001b[38;5;124m\"\u001b[39m\u001b[38;5;124mprice__regular whitespace-nowrap\u001b[39m\u001b[38;5;124m\"\u001b[39m)\u001b[38;5;241m.\u001b[39mtext\u001b[38;5;241m.\u001b[39mstrip()) \u001b[38;5;241m>\u001b[39m \u001b[38;5;241m4\u001b[39m:\n\u001b[0;32m     13\u001b[0m         new_row \u001b[38;5;241m=\u001b[39m {\u001b[38;5;124m\"\u001b[39m\u001b[38;5;124mShoe\u001b[39m\u001b[38;5;124m\"\u001b[39m : sale_element\u001b[38;5;241m.\u001b[39mfind(\u001b[38;5;124m\"\u001b[39m\u001b[38;5;124mdiv\u001b[39m\u001b[38;5;124m\"\u001b[39m, class_\u001b[38;5;241m=\u001b[39m\u001b[38;5;124m\"\u001b[39m\u001b[38;5;124mproduct-card__top w-full\u001b[39m\u001b[38;5;124m\"\u001b[39m)\u001b[38;5;241m.\u001b[39mfind(\u001b[38;5;124m\"\u001b[39m\u001b[38;5;124ma\u001b[39m\u001b[38;5;124m\"\u001b[39m)\u001b[38;5;241m.\u001b[39mtext\u001b[38;5;241m.\u001b[39mstrip() \n\u001b[0;32m     14\u001b[0m                 \u001b[38;5;241m+\u001b[39m \u001b[38;5;124m\"\u001b[39m\u001b[38;5;124m \u001b[39m\u001b[38;5;124m\"\u001b[39m \n\u001b[0;32m     15\u001b[0m                 \u001b[38;5;241m+\u001b[39m sale_element\u001b[38;5;241m.\u001b[39mfind(\u001b[38;5;124m\"\u001b[39m\u001b[38;5;124mdiv\u001b[39m\u001b[38;5;124m\"\u001b[39m, class_\u001b[38;5;241m=\u001b[39m\u001b[38;5;124m\"\u001b[39m\u001b[38;5;124mproduct-card__details flex flex-col lg:flex-row items-baseline gap-2 w-full\u001b[39m\u001b[38;5;124m\"\u001b[39m)\u001b[38;5;241m.\u001b[39mfind(\u001b[38;5;124m\"\u001b[39m\u001b[38;5;124ma\u001b[39m\u001b[38;5;124m\"\u001b[39m)\u001b[38;5;241m.\u001b[39mtext\u001b[38;5;241m.\u001b[39mstrip(),\n\u001b[1;32m---> 16\u001b[0m         \u001b[38;5;124m\"\u001b[39m\u001b[38;5;124mSale Price\u001b[39m\u001b[38;5;124m\"\u001b[39m : \u001b[38;5;28;43mfloat\u001b[39;49m\u001b[43m(\u001b[49m\u001b[43msale_element\u001b[49m\u001b[38;5;241;43m.\u001b[39;49m\u001b[43mfind\u001b[49m\u001b[43m(\u001b[49m\u001b[38;5;124;43m\"\u001b[39;49m\u001b[38;5;124;43mspan\u001b[39;49m\u001b[38;5;124;43m\"\u001b[39;49m\u001b[43m,\u001b[49m\u001b[43m \u001b[49m\u001b[43mclass_\u001b[49m\u001b[38;5;241;43m=\u001b[39;49m\u001b[38;5;124;43m\"\u001b[39;49m\u001b[38;5;124;43mprice__regular whitespace-nowrap\u001b[39;49m\u001b[38;5;124;43m\"\u001b[39;49m\u001b[43m)\u001b[49m\u001b[38;5;241;43m.\u001b[39;49m\u001b[43mtext\u001b[49m\u001b[38;5;241;43m.\u001b[39;49m\u001b[43mstrip\u001b[49m\u001b[43m(\u001b[49m\u001b[43m)\u001b[49m\u001b[43m[\u001b[49m\u001b[38;5;241;43m6\u001b[39;49m\u001b[43m:\u001b[49m\u001b[43m]\u001b[49m\u001b[43m)\u001b[49m,\n\u001b[0;32m     17\u001b[0m         \u001b[38;5;124m\"\u001b[39m\u001b[38;5;124mOriginal Price\u001b[39m\u001b[38;5;124m\"\u001b[39m : \u001b[38;5;28mfloat\u001b[39m(sale_element\u001b[38;5;241m.\u001b[39mfind(\u001b[38;5;124m\"\u001b[39m\u001b[38;5;124mspan\u001b[39m\u001b[38;5;124m\"\u001b[39m, class_\u001b[38;5;241m=\u001b[39m\u001b[38;5;124m\"\u001b[39m\u001b[38;5;124mprice__sale inline-flex items-center h-full relative\u001b[39m\u001b[38;5;124m\"\u001b[39m)\u001b[38;5;241m.\u001b[39mtext\u001b[38;5;241m.\u001b[39mstrip()[\u001b[38;5;241m1\u001b[39m:]),\n\u001b[0;32m     18\u001b[0m         \u001b[38;5;124m\"\u001b[39m\u001b[38;5;124mDiscount\u001b[39m\u001b[38;5;124m\"\u001b[39m : \u001b[38;5;28mstr\u001b[39m(\u001b[38;5;28mround\u001b[39m((\u001b[38;5;28mfloat\u001b[39m(sale_element\u001b[38;5;241m.\u001b[39mfind(\u001b[38;5;124m\"\u001b[39m\u001b[38;5;124mspan\u001b[39m\u001b[38;5;124m\"\u001b[39m, class_\u001b[38;5;241m=\u001b[39m\u001b[38;5;124m\"\u001b[39m\u001b[38;5;124mprice__sale inline-flex items-center h-full relative\u001b[39m\u001b[38;5;124m\"\u001b[39m)\u001b[38;5;241m.\u001b[39mtext\u001b[38;5;241m.\u001b[39mstrip()[\u001b[38;5;241m1\u001b[39m:])\n\u001b[0;32m     19\u001b[0m                                 \u001b[38;5;241m-\u001b[39m\u001b[38;5;28mfloat\u001b[39m(sale_element\u001b[38;5;241m.\u001b[39mfind(\u001b[38;5;124m\"\u001b[39m\u001b[38;5;124mspan\u001b[39m\u001b[38;5;124m\"\u001b[39m, class_\u001b[38;5;241m=\u001b[39m\u001b[38;5;124m\"\u001b[39m\u001b[38;5;124mprice__regular whitespace-nowrap\u001b[39m\u001b[38;5;124m\"\u001b[39m)\u001b[38;5;241m.\u001b[39mtext\u001b[38;5;241m.\u001b[39mstrip()[\u001b[38;5;241m6\u001b[39m:]))\n\u001b[0;32m     20\u001b[0m                             \u001b[38;5;241m/\u001b[39m\u001b[38;5;28mfloat\u001b[39m(sale_element\u001b[38;5;241m.\u001b[39mfind(\u001b[38;5;124m\"\u001b[39m\u001b[38;5;124mspan\u001b[39m\u001b[38;5;124m\"\u001b[39m, class_\u001b[38;5;241m=\u001b[39m\u001b[38;5;124m\"\u001b[39m\u001b[38;5;124mprice__sale inline-flex items-center h-full relative\u001b[39m\u001b[38;5;124m\"\u001b[39m)\u001b[38;5;241m.\u001b[39mtext\u001b[38;5;241m.\u001b[39mstrip()[\u001b[38;5;241m1\u001b[39m:]),\u001b[38;5;241m2\u001b[39m)\u001b[38;5;241m*\u001b[39m\u001b[38;5;241m100\u001b[39m)\u001b[38;5;241m+\u001b[39m\u001b[38;5;124m\"\u001b[39m\u001b[38;5;124m%\u001b[39m\u001b[38;5;124m\"\u001b[39m,\n\u001b[0;32m     21\u001b[0m         \u001b[38;5;124m\"\u001b[39m\u001b[38;5;124mURL\u001b[39m\u001b[38;5;124m\"\u001b[39m : \u001b[38;5;124m\"\u001b[39m\u001b[38;5;124mshop.blocshop.com\u001b[39m\u001b[38;5;124m\"\u001b[39m \u001b[38;5;241m+\u001b[39m sale_element\u001b[38;5;241m.\u001b[39mfind(\u001b[38;5;124m\"\u001b[39m\u001b[38;5;124ma\u001b[39m\u001b[38;5;124m\"\u001b[39m)[\u001b[38;5;124m\"\u001b[39m\u001b[38;5;124mhref\u001b[39m\u001b[38;5;124m\"\u001b[39m],\n\u001b[0;32m     22\u001b[0m         \u001b[38;5;124m\"\u001b[39m\u001b[38;5;124mShipping Cost\u001b[39m\u001b[38;5;124m\"\u001b[39m : \u001b[38;5;241m0\u001b[39m\n\u001b[0;32m     23\u001b[0m         }\n\u001b[0;32m     24\u001b[0m         new_row_df \u001b[38;5;241m=\u001b[39m pd\u001b[38;5;241m.\u001b[39mDataFrame([new_row])\n\u001b[0;32m     25\u001b[0m         df \u001b[38;5;241m=\u001b[39m pd\u001b[38;5;241m.\u001b[39mconcat([df, new_row_df],ignore_index\u001b[38;5;241m=\u001b[39m\u001b[38;5;28;01mTrue\u001b[39;00m)\n",
      "\u001b[1;31mValueError\u001b[0m: could not convert string to float: ''"
     ]
    }
   ],
   "source": [
    "df = pd.DataFrame(columns=[\"Shoe\",\"Sale Price\",\"Original Price\",\"Discount\",\"URL\",\"Shipping Cost\"])\n",
    "\n",
    "for i in range(1,9):\n",
    "    url = \"https://shop.blocshop.com/collections/all-climbing-shoes?page={}&section_id=template--15175211253894__main-collection\".format(i)\n",
    "    page = requests.get(url)\n",
    "    soup = BeautifulSoup(page.content, \"html.parser\")\n",
    "    results = soup.find(\"div\", class_=\"collection page-width page-width--full relative with-drawer\")\n",
    "    product_elements = results.find_all(\"div\", class_=\"card product-card product-card--card grid leading-none relative overflow-hidden\")\n",
    "\n",
    "    for sale_element in product_elements:\n",
    "        if sale_element.find(\"span\", class_=\"price__sale inline-flex items-center h-full relative\") != None:\n",
    "            if len(sale_element.find(\"span\", class_=\"price__regular whitespace-nowrap\").text.strip()) > 4:\n",
    "                new_row = {\"Shoe\" : sale_element.find(\"div\", class_=\"product-card__top w-full\").find(\"a\").text.strip() \n",
    "                        + \" \" \n",
    "                        + sale_element.find(\"div\", class_=\"product-card__details flex flex-col lg:flex-row items-baseline gap-2 w-full\").find(\"a\").text.strip(),\n",
    "                \"Sale Price\" : float(sale_element.find(\"span\", class_=\"price__regular whitespace-nowrap\").text.strip()[6:]),\n",
    "                \"Original Price\" : float(sale_element.find(\"span\", class_=\"price__sale inline-flex items-center h-full relative\").text.strip()[1:]),\n",
    "                \"Discount\" : str(round((float(sale_element.find(\"span\", class_=\"price__sale inline-flex items-center h-full relative\").text.strip()[1:])\n",
    "                                        -float(sale_element.find(\"span\", class_=\"price__regular whitespace-nowrap\").text.strip()[6:]))\n",
    "                                    /float(sale_element.find(\"span\", class_=\"price__sale inline-flex items-center h-full relative\").text.strip()[1:]),2)*100)+\"%\",\n",
    "                \"URL\" : \"shop.blocshop.com\" + sale_element.find(\"a\")[\"href\"],\n",
    "                \"Shipping Cost\" : 0\n",
    "                }\n",
    "                new_row_df = pd.DataFrame([new_row])\n",
    "                df = pd.concat([df, new_row_df],ignore_index=True)\n",
    "            else:\n",
    "                new_row = {\"Shoe\" : sale_element.find(\"div\", class_=\"product-card__top w-full\").find(\"a\").text.strip() \n",
    "                        + \" \" \n",
    "                        + sale_element.find(\"div\", class_=\"product-card__details flex flex-col lg:flex-row items-baseline gap-2 w-full\").find(\"a\").text.strip(),\n",
    "                \"Sale Price\" : float(sale_element.find(\"span\", class_=\"price__regular whitespace-nowrap\").text.strip()[1:]),\n",
    "                \"Original Price\" : float(sale_element.find(\"span\", class_=\"price__sale inline-flex items-center h-full relative\").text.strip()[1:]),\n",
    "                \"Discount\" : str(round((float(sale_element.find(\"span\", class_=\"price__sale inline-flex items-center h-full relative\").text.strip()[1:])\n",
    "                                        -float(sale_element.find(\"span\", class_=\"price__regular whitespace-nowrap\").text.strip()[1:]))\n",
    "                                    /float(sale_element.find(\"span\", class_=\"price__sale inline-flex items-center h-full relative\").text.strip()[1:]),2)*100)+\"%\",\n",
    "                \"URL\" : \"shop.blocshop.com\" + sale_element.find(\"a\")[\"href\"],\n",
    "                \"Shipping Cost\" : 0\n",
    "                }\n",
    "                new_row_df = pd.DataFrame([new_row])\n",
    "                df = pd.concat([df, new_row_df],ignore_index=True)\n",
    "\n",
    "\n",
    "type_tiny = pyshorteners.Shortener() \n",
    "df[\"URL\"] = df[\"URL\"].apply(lambda x: type_tiny.tinyurl.short(x))\n",
    "df[\"Post-Tax Price\"] = (df[\"Sale Price\"]+df[\"Shipping Cost\"])*1.13"
   ]
  },
  {
   "cell_type": "markdown",
   "id": "b362f77a",
   "metadata": {},
   "source": [
    "Output Table"
   ]
  },
  {
   "cell_type": "code",
   "execution_count": 9,
   "id": "a3aeec06",
   "metadata": {},
   "outputs": [
    {
     "data": {
      "text/html": [
       "<div>\n",
       "<style scoped>\n",
       "    .dataframe tbody tr th:only-of-type {\n",
       "        vertical-align: middle;\n",
       "    }\n",
       "\n",
       "    .dataframe tbody tr th {\n",
       "        vertical-align: top;\n",
       "    }\n",
       "\n",
       "    .dataframe thead th {\n",
       "        text-align: right;\n",
       "    }\n",
       "</style>\n",
       "<table border=\"1\" class=\"dataframe\">\n",
       "  <thead>\n",
       "    <tr style=\"text-align: right;\">\n",
       "      <th></th>\n",
       "      <th>Shoe</th>\n",
       "      <th>Sale Price</th>\n",
       "      <th>Original Price</th>\n",
       "      <th>Discount</th>\n",
       "      <th>URL</th>\n",
       "      <th>Shipping Cost</th>\n",
       "      <th>Post-Tax Price</th>\n",
       "    </tr>\n",
       "  </thead>\n",
       "  <tbody>\n",
       "    <tr>\n",
       "      <th>0</th>\n",
       "      <td>Zone LV Shoe</td>\n",
       "      <td>129.99</td>\n",
       "      <td>174.95</td>\n",
       "      <td>26.0%</td>\n",
       "      <td>https://tinyurl.com/27y8q3yq</td>\n",
       "      <td>25</td>\n",
       "      <td>175.1387</td>\n",
       "    </tr>\n",
       "    <tr>\n",
       "      <th>1</th>\n",
       "      <td>The General</td>\n",
       "      <td>169.99</td>\n",
       "      <td>229.95</td>\n",
       "      <td>26.0%</td>\n",
       "      <td>https://tinyurl.com/2xtudhgv</td>\n",
       "      <td>25</td>\n",
       "      <td>220.3387</td>\n",
       "    </tr>\n",
       "  </tbody>\n",
       "</table>\n",
       "</div>"
      ],
      "text/plain": [
       "           Shoe  Sale Price  Original Price Discount  \\\n",
       "0  Zone LV Shoe      129.99          174.95    26.0%   \n",
       "1   The General      169.99          229.95    26.0%   \n",
       "\n",
       "                            URL Shipping Cost Post-Tax Price  \n",
       "0  https://tinyurl.com/27y8q3yq            25       175.1387  \n",
       "1  https://tinyurl.com/2xtudhgv            25       220.3387  "
      ]
     },
     "execution_count": 9,
     "metadata": {},
     "output_type": "execute_result"
    }
   ],
   "source": [
    "#Output the table with values sorted\n",
    "df.sort_values(by=\"Discount\",ascending=False)"
   ]
  },
  {
   "cell_type": "code",
   "execution_count": null,
   "id": "8186b100",
   "metadata": {},
   "outputs": [],
   "source": []
  }
 ],
 "metadata": {
  "kernelspec": {
   "display_name": "Python 3 (ipykernel)",
   "language": "python",
   "name": "python3"
  },
  "language_info": {
   "codemirror_mode": {
    "name": "ipython",
    "version": 3
   },
   "file_extension": ".py",
   "mimetype": "text/x-python",
   "name": "python",
   "nbconvert_exporter": "python",
   "pygments_lexer": "ipython3",
   "version": "3.10.11"
  }
 },
 "nbformat": 4,
 "nbformat_minor": 5
}
