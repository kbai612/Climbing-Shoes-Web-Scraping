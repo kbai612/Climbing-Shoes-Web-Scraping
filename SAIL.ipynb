{
 "cells": [
  {
   "cell_type": "markdown",
   "id": "92b8370f",
   "metadata": {},
   "source": [
    "## Climbing Shoe Website Parser\n",
    "### Website: SAIL"
   ]
  },
  {
   "cell_type": "code",
   "execution_count": 20,
   "id": "393aaea2",
   "metadata": {},
   "outputs": [],
   "source": [
    "import requests\n",
    "from bs4 import BeautifulSoup\n",
    "import pandas as pd\n",
    "import pyshorteners\n",
    "import pyperclip"
   ]
  },
  {
   "cell_type": "code",
   "execution_count": 21,
   "id": "251b5f13",
   "metadata": {},
   "outputs": [],
   "source": [
    "# Creating the soup using html.parser\n",
    "\n",
    "mec_url = \"https://www.sail.ca/en/outdoor-gear/climbing/climbing-shoes\"\n",
    "mec_page = requests.get(mec_url)\n",
    "mec_soup = BeautifulSoup(mec_page.content, \"html.parser\")\n",
    "\n",
    "df = pd.DataFrame(columns=[\"Shoe\",\"Sale Price\",\"Original Price\",\"Discount\",\"URL\",\"Shipping Cost\"])"
   ]
  },
  {
   "cell_type": "code",
   "execution_count": 22,
   "id": "e570b5fc",
   "metadata": {},
   "outputs": [
    {
     "name": "stdout",
     "output_type": "stream",
     "text": [
      "<div class=\"searchspring-content\" id=\"searchspring-content\"><!-- SearchSpring dynamic content load by JavaScript --></div>\n"
     ]
    }
   ],
   "source": [
    "#Parse specific MEC.ca related content tags\n",
    "results = mec_soup.find(\"div\",id=\"searchspring-content\")\n",
    "# mec_sale_elements = results.find_all(\"li\", class_=\"item product product-item ss-targeted ng-scope\")\n",
    "\n",
    "print(results)\n",
    "\n"
   ]
  },
  {
   "cell_type": "code",
   "execution_count": 23,
   "id": "40dc3d7d",
   "metadata": {},
   "outputs": [
    {
     "ename": "NameError",
     "evalue": "name 'mec_sale_elements' is not defined",
     "output_type": "error",
     "traceback": [
      "\u001b[1;31m---------------------------------------------------------------------------\u001b[0m",
      "\u001b[1;31mNameError\u001b[0m                                 Traceback (most recent call last)",
      "Cell \u001b[1;32mIn[23], line 2\u001b[0m\n\u001b[0;32m      1\u001b[0m \u001b[38;5;66;03m#Loop through each sale element for relevant information\u001b[39;00m\n\u001b[1;32m----> 2\u001b[0m \u001b[38;5;28;01mfor\u001b[39;00m sale_element \u001b[38;5;129;01min\u001b[39;00m \u001b[43mmec_sale_elements\u001b[49m:\n\u001b[0;32m      3\u001b[0m     shoe_name_element \u001b[38;5;241m=\u001b[39m sale_element\u001b[38;5;241m.\u001b[39mfind(\u001b[38;5;124m\"\u001b[39m\u001b[38;5;124ma\u001b[39m\u001b[38;5;124m\"\u001b[39m, class_\u001b[38;5;241m=\u001b[39m\u001b[38;5;124m\"\u001b[39m\u001b[38;5;124mHit_hitTitle__dl_OY\u001b[39m\u001b[38;5;124m\"\u001b[39m)\n\u001b[0;32m      4\u001b[0m     price_element \u001b[38;5;241m=\u001b[39m sale_element\u001b[38;5;241m.\u001b[39mfind(\u001b[38;5;124m\"\u001b[39m\u001b[38;5;124mspan\u001b[39m\u001b[38;5;124m\"\u001b[39m, class_\u001b[38;5;241m=\u001b[39m\u001b[38;5;124m\"\u001b[39m\u001b[38;5;124mHit_hitPrices__IHAvd\u001b[39m\u001b[38;5;124m\"\u001b[39m)\u001b[38;5;241m.\u001b[39mfind(\u001b[38;5;124m\"\u001b[39m\u001b[38;5;124mspan\u001b[39m\u001b[38;5;124m\"\u001b[39m)\n",
      "\u001b[1;31mNameError\u001b[0m: name 'mec_sale_elements' is not defined"
     ]
    }
   ],
   "source": [
    "#Loop through each sale element for relevant information\n",
    "for sale_element in mec_sale_elements:\n",
    "    shoe_name_element = sale_element.find(\"a\", class_=\"Hit_hitTitle__dl_OY\")\n",
    "    price_element = sale_element.find(\"span\", class_=\"Hit_hitPrices__IHAvd\").find(\"span\")\n",
    "    og_price_element = sale_element.find(\"span\", class_=\"Hit_hitPrices__IHAvd\").find(\"span\", class_=\"Hit_hitOldPrice__7i8ik\")\n",
    "    link_element = \"mec.ca\" + sale_element.find(\"a\")[\"href\"]\n",
    "    new_row = {\"Shoe\" : shoe_name_element,\n",
    "               \"Sale Price\" : float(price_element.text.strip()[1:]),\n",
    "               \"Original Price\" : float(og_price_element.text.strip()[1:]),\n",
    "               \"Discount\" : str(round((float(og_price_element.text.strip()[1:])-float(price_element.text.strip()[1:]))/float(og_price_element.text.strip()[1:]),2)*100)+\"%\",\n",
    "               \"URL\" : link_element,\n",
    "               \"Shipping Cost\" : 0\n",
    "              }\n",
    "    new_row_df = pd.DataFrame([new_row])\n",
    "    df = pd.concat([df, new_row_df],ignore_index=True)\n",
    "\n",
    "type_tiny = pyshorteners.Shortener() \n",
    "df[\"URL\"] = df[\"URL\"].apply(lambda x: type_tiny.tinyurl.short(x))\n",
    "df[\"Post-Tax Price\"] = (df[\"Sale Price\"]+df[\"Shipping Cost\"])*1.13"
   ]
  },
  {
   "cell_type": "code",
   "execution_count": null,
   "id": "a3aeec06",
   "metadata": {},
   "outputs": [
    {
     "data": {
      "text/html": [
       "<div>\n",
       "<style scoped>\n",
       "    .dataframe tbody tr th:only-of-type {\n",
       "        vertical-align: middle;\n",
       "    }\n",
       "\n",
       "    .dataframe tbody tr th {\n",
       "        vertical-align: top;\n",
       "    }\n",
       "\n",
       "    .dataframe thead th {\n",
       "        text-align: right;\n",
       "    }\n",
       "</style>\n",
       "<table border=\"1\" class=\"dataframe\">\n",
       "  <thead>\n",
       "    <tr style=\"text-align: right;\">\n",
       "      <th></th>\n",
       "      <th>Shoe</th>\n",
       "      <th>Sale Price</th>\n",
       "      <th>Original Price</th>\n",
       "      <th>Discount</th>\n",
       "      <th>URL</th>\n",
       "      <th>Shipping Cost</th>\n",
       "      <th>Post-Tax Price</th>\n",
       "    </tr>\n",
       "  </thead>\n",
       "  <tbody>\n",
       "    <tr>\n",
       "      <th>9</th>\n",
       "      <td>[Black Diamond Zone LV Rock Shoes - Unisex]</td>\n",
       "      <td>49.93</td>\n",
       "      <td>129.95</td>\n",
       "      <td>62.0%</td>\n",
       "      <td>https://tinyurl.com/257qse2m</td>\n",
       "      <td>0</td>\n",
       "      <td>56.4209</td>\n",
       "    </tr>\n",
       "    <tr>\n",
       "      <th>4</th>\n",
       "      <td>[Scarpa Quantix SF Rock Shoes - Women's]</td>\n",
       "      <td>114.93</td>\n",
       "      <td>208.95</td>\n",
       "      <td>45.0%</td>\n",
       "      <td>https://tinyurl.com/27b8m897</td>\n",
       "      <td>0</td>\n",
       "      <td>129.8709</td>\n",
       "    </tr>\n",
       "    <tr>\n",
       "      <th>5</th>\n",
       "      <td>[Scarpa Mago Rock Shoes - Unisex]</td>\n",
       "      <td>139.93</td>\n",
       "      <td>248.95</td>\n",
       "      <td>44.0%</td>\n",
       "      <td>https://tinyurl.com/296wrp4y</td>\n",
       "      <td>0</td>\n",
       "      <td>158.1209</td>\n",
       "    </tr>\n",
       "    <tr>\n",
       "      <th>3</th>\n",
       "      <td>[Scarpa Quantic Climb Shoes - Men's]</td>\n",
       "      <td>128.94</td>\n",
       "      <td>198.95</td>\n",
       "      <td>35.0%</td>\n",
       "      <td>https://tinyurl.com/243v78jw</td>\n",
       "      <td>0</td>\n",
       "      <td>145.7022</td>\n",
       "    </tr>\n",
       "    <tr>\n",
       "      <th>6</th>\n",
       "      <td>[Scarpa Quantic Climb Shoes - Women's]</td>\n",
       "      <td>128.94</td>\n",
       "      <td>198.95</td>\n",
       "      <td>35.0%</td>\n",
       "      <td>https://tinyurl.com/2xzfv4w4</td>\n",
       "      <td>0</td>\n",
       "      <td>145.7022</td>\n",
       "    </tr>\n",
       "    <tr>\n",
       "      <th>0</th>\n",
       "      <td>[Scarpa Boostic Rock Shoes - Unisex]</td>\n",
       "      <td>186.94</td>\n",
       "      <td>248.95</td>\n",
       "      <td>25.0%</td>\n",
       "      <td>https://tinyurl.com/279z2rw9</td>\n",
       "      <td>0</td>\n",
       "      <td>211.2422</td>\n",
       "    </tr>\n",
       "    <tr>\n",
       "      <th>1</th>\n",
       "      <td>[Scarpa Force V Rock Shoes - Men's]</td>\n",
       "      <td>148.94</td>\n",
       "      <td>198.95</td>\n",
       "      <td>25.0%</td>\n",
       "      <td>https://tinyurl.com/245lqltu</td>\n",
       "      <td>0</td>\n",
       "      <td>168.3022</td>\n",
       "    </tr>\n",
       "    <tr>\n",
       "      <th>2</th>\n",
       "      <td>[Scarpa Force V Rock Shoes - Women's]</td>\n",
       "      <td>148.94</td>\n",
       "      <td>198.95</td>\n",
       "      <td>25.0%</td>\n",
       "      <td>https://tinyurl.com/2adecyyl</td>\n",
       "      <td>0</td>\n",
       "      <td>168.3022</td>\n",
       "    </tr>\n",
       "    <tr>\n",
       "      <th>7</th>\n",
       "      <td>[Scarpa Reflex V Rock Shoes - Women's]</td>\n",
       "      <td>104.94</td>\n",
       "      <td>138.95</td>\n",
       "      <td>24.0%</td>\n",
       "      <td>https://tinyurl.com/23fgsnro</td>\n",
       "      <td>0</td>\n",
       "      <td>118.5822</td>\n",
       "    </tr>\n",
       "    <tr>\n",
       "      <th>8</th>\n",
       "      <td>[Scarpa Reflex V Rock Shoes - Men's]</td>\n",
       "      <td>104.94</td>\n",
       "      <td>138.95</td>\n",
       "      <td>24.0%</td>\n",
       "      <td>https://tinyurl.com/25b8y7mz</td>\n",
       "      <td>0</td>\n",
       "      <td>118.5822</td>\n",
       "    </tr>\n",
       "  </tbody>\n",
       "</table>\n",
       "</div>"
      ],
      "text/plain": [
       "                                          Shoe  Sale Price  Original Price  \\\n",
       "9  [Black Diamond Zone LV Rock Shoes - Unisex]       49.93          129.95   \n",
       "4     [Scarpa Quantix SF Rock Shoes - Women's]      114.93          208.95   \n",
       "5            [Scarpa Mago Rock Shoes - Unisex]      139.93          248.95   \n",
       "3         [Scarpa Quantic Climb Shoes - Men's]      128.94          198.95   \n",
       "6       [Scarpa Quantic Climb Shoes - Women's]      128.94          198.95   \n",
       "0         [Scarpa Boostic Rock Shoes - Unisex]      186.94          248.95   \n",
       "1          [Scarpa Force V Rock Shoes - Men's]      148.94          198.95   \n",
       "2        [Scarpa Force V Rock Shoes - Women's]      148.94          198.95   \n",
       "7       [Scarpa Reflex V Rock Shoes - Women's]      104.94          138.95   \n",
       "8         [Scarpa Reflex V Rock Shoes - Men's]      104.94          138.95   \n",
       "\n",
       "  Discount                           URL Shipping Cost Post-Tax Price  \n",
       "9    62.0%  https://tinyurl.com/257qse2m             0        56.4209  \n",
       "4    45.0%  https://tinyurl.com/27b8m897             0       129.8709  \n",
       "5    44.0%  https://tinyurl.com/296wrp4y             0       158.1209  \n",
       "3    35.0%  https://tinyurl.com/243v78jw             0       145.7022  \n",
       "6    35.0%  https://tinyurl.com/2xzfv4w4             0       145.7022  \n",
       "0    25.0%  https://tinyurl.com/279z2rw9             0       211.2422  \n",
       "1    25.0%  https://tinyurl.com/245lqltu             0       168.3022  \n",
       "2    25.0%  https://tinyurl.com/2adecyyl             0       168.3022  \n",
       "7    24.0%  https://tinyurl.com/23fgsnro             0       118.5822  \n",
       "8    24.0%  https://tinyurl.com/25b8y7mz             0       118.5822  "
      ]
     },
     "execution_count": 5,
     "metadata": {},
     "output_type": "execute_result"
    }
   ],
   "source": [
    "#Output the table with values sorted\n",
    "df.sort_values(by=\"Discount\",ascending=False)"
   ]
  },
  {
   "cell_type": "code",
   "execution_count": null,
   "id": "75912df4",
   "metadata": {},
   "outputs": [],
   "source": [
    "# Potential Future Multiple website Improvement\n",
    "# url_list = [\"https://www.mec.ca/en/products/climbing/climbing-footwear/climbing-shoes?promotions=clearance\": 0,\n",
    "#             \"https://www.sail.ca/en/outdoor-gear/climbing/climbing-shoes#/filter:ss_special_price:Yes\": 0]\n",
    "\n",
    "# for i[0] in url_list:\n",
    "#     tmppage = \"\"\n",
    "#     tmppage = requests.get(i)\n",
    "#     website_name = i.split(\"www.\",)[1].split(\".ca\")[0] + \"_soup\"\n",
    "#     website_name = BeautifulSoup(tmppage.content, \"html.parser\")"
   ]
  },
  {
   "cell_type": "code",
   "execution_count": null,
   "id": "c08695f2",
   "metadata": {},
   "outputs": [],
   "source": []
  },
  {
   "cell_type": "code",
   "execution_count": null,
   "id": "5c2b9ec7",
   "metadata": {},
   "outputs": [],
   "source": []
  },
  {
   "cell_type": "code",
   "execution_count": null,
   "id": "d661a407",
   "metadata": {},
   "outputs": [],
   "source": []
  }
 ],
 "metadata": {
  "kernelspec": {
   "display_name": "Python 3 (ipykernel)",
   "language": "python",
   "name": "python3"
  },
  "language_info": {
   "codemirror_mode": {
    "name": "ipython",
    "version": 3
   },
   "file_extension": ".py",
   "mimetype": "text/x-python",
   "name": "python",
   "nbconvert_exporter": "python",
   "pygments_lexer": "ipython3",
   "version": "3.10.11"
  }
 },
 "nbformat": 4,
 "nbformat_minor": 5
}
